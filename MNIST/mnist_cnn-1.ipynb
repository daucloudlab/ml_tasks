{
 "cells": [
  {
   "cell_type": "code",
   "execution_count": 1,
   "id": "abcfcd07",
   "metadata": {
    "execution": {
     "iopub.execute_input": "2025-04-26T13:40:58.080491Z",
     "iopub.status.busy": "2025-04-26T13:40:58.080127Z",
     "iopub.status.idle": "2025-04-26T13:41:09.628769Z",
     "shell.execute_reply": "2025-04-26T13:41:09.627751Z"
    },
    "papermill": {
     "duration": 11.556961,
     "end_time": "2025-04-26T13:41:09.630549",
     "exception": false,
     "start_time": "2025-04-26T13:40:58.073588",
     "status": "completed"
    },
    "tags": []
   },
   "outputs": [],
   "source": [
    "import torch\n",
    "import torch.nn as nn\n",
    "import torch.nn.functional as F\n",
    "import torch.optim as optim\n",
    "import torch.utils.data as data\n",
    "import  torchvision\n",
    "import torchvision.transforms.v2 as tfs\n"
   ]
  },
  {
   "cell_type": "code",
   "execution_count": 2,
   "id": "b7feb2f3",
   "metadata": {
    "execution": {
     "iopub.execute_input": "2025-04-26T13:41:09.641706Z",
     "iopub.status.busy": "2025-04-26T13:41:09.641186Z",
     "iopub.status.idle": "2025-04-26T13:41:09.646638Z",
     "shell.execute_reply": "2025-04-26T13:41:09.645603Z"
    },
    "papermill": {
     "duration": 0.012818,
     "end_time": "2025-04-26T13:41:09.648362",
     "exception": false,
     "start_time": "2025-04-26T13:41:09.635544",
     "status": "completed"
    },
    "tags": []
   },
   "outputs": [],
   "source": [
    "import os\n",
    "from tqdm import tqdm\n",
    "import numpy as np\n",
    "import matplotlib.pyplot as plt\n",
    "import json\n",
    "from PIL import Image"
   ]
  },
  {
   "cell_type": "code",
   "execution_count": 3,
   "id": "6ff49661",
   "metadata": {
    "execution": {
     "iopub.execute_input": "2025-04-26T13:41:09.659296Z",
     "iopub.status.busy": "2025-04-26T13:41:09.658917Z",
     "iopub.status.idle": "2025-04-26T13:41:09.666809Z",
     "shell.execute_reply": "2025-04-26T13:41:09.665951Z"
    },
    "papermill": {
     "duration": 0.01524,
     "end_time": "2025-04-26T13:41:09.668284",
     "exception": false,
     "start_time": "2025-04-26T13:41:09.653044",
     "status": "completed"
    },
    "tags": []
   },
   "outputs": [],
   "source": [
    "class DigitDataset(data.Dataset):\n",
    "    def __init__(self, path, train=True, transforms=None):\n",
    "        self.path = os.path.join(path, 'train' if train else 'test')\n",
    "        self.transforms = transforms\n",
    "        \n",
    "        with open(os.path.join(path, 'format.json'), 'r') as f:\n",
    "            self.format = json.load(f)\n",
    "\n",
    "        self.length = 0\n",
    "        self.files = []\n",
    "        for class_name, target in self.format.items():\n",
    "            dir_name = os.path.join(self.path, class_name)\n",
    "            dir_files = os.listdir(dir_name)\n",
    "            self.length += len(dir_files)\n",
    "            for file in dir_files:\n",
    "                img_path = os.path.join(dir_name, file)\n",
    "                self.files.append((img_path,target))\n",
    "\n",
    "    def __getitem__(self, item):\n",
    "        img_path, target = self.files[item]\n",
    "        img = Image.open(img_path)\n",
    "        if self.transforms:\n",
    "            img = self.transforms(img)\n",
    "\n",
    "        return (img, target)\n",
    "\n",
    "    def __len__(self):\n",
    "        return self.length\n",
    "            "
   ]
  },
  {
   "cell_type": "code",
   "execution_count": 4,
   "id": "68b46f91",
   "metadata": {
    "execution": {
     "iopub.execute_input": "2025-04-26T13:41:09.679125Z",
     "iopub.status.busy": "2025-04-26T13:41:09.678801Z",
     "iopub.status.idle": "2025-04-26T13:41:10.780541Z",
     "shell.execute_reply": "2025-04-26T13:41:10.779274Z"
    },
    "papermill": {
     "duration": 1.10959,
     "end_time": "2025-04-26T13:41:10.782497",
     "exception": false,
     "start_time": "2025-04-26T13:41:09.672907",
     "status": "completed"
    },
    "tags": []
   },
   "outputs": [
    {
     "name": "stderr",
     "output_type": "stream",
     "text": [
      "/usr/local/lib/python3.11/dist-packages/torchvision/transforms/v2/_deprecated.py:42: UserWarning: The transform `ToTensor()` is deprecated and will be removed in a future release. Instead, please use `v2.Compose([v2.ToImage(), v2.ToDtype(torch.float32, scale=True)])`.Output is equivalent up to float precision.\n",
      "  warnings.warn(\n"
     ]
    }
   ],
   "source": [
    "transforms = tfs.Compose([tfs.ToTensor(),  tfs.ToDtype(torch.float32, scale=True)])\n",
    "d = DigitDataset('/kaggle/input/mnist-dataset/dataset', train=True, transforms=transforms)"
   ]
  },
  {
   "cell_type": "code",
   "execution_count": 5,
   "id": "e713f5a7",
   "metadata": {
    "execution": {
     "iopub.execute_input": "2025-04-26T13:41:10.797804Z",
     "iopub.status.busy": "2025-04-26T13:41:10.796961Z",
     "iopub.status.idle": "2025-04-26T13:41:10.895352Z",
     "shell.execute_reply": "2025-04-26T13:41:10.894394Z"
    },
    "papermill": {
     "duration": 0.107984,
     "end_time": "2025-04-26T13:41:10.897269",
     "exception": false,
     "start_time": "2025-04-26T13:41:10.789285",
     "status": "completed"
    },
    "tags": []
   },
   "outputs": [],
   "source": [
    "x, y = d[0]"
   ]
  },
  {
   "cell_type": "code",
   "execution_count": 6,
   "id": "499efc51",
   "metadata": {
    "execution": {
     "iopub.execute_input": "2025-04-26T13:41:10.907667Z",
     "iopub.status.busy": "2025-04-26T13:41:10.907297Z",
     "iopub.status.idle": "2025-04-26T13:41:10.913987Z",
     "shell.execute_reply": "2025-04-26T13:41:10.912982Z"
    },
    "papermill": {
     "duration": 0.013665,
     "end_time": "2025-04-26T13:41:10.915560",
     "exception": false,
     "start_time": "2025-04-26T13:41:10.901895",
     "status": "completed"
    },
    "tags": []
   },
   "outputs": [
    {
     "data": {
      "text/plain": [
       "torch.Tensor"
      ]
     },
     "execution_count": 6,
     "metadata": {},
     "output_type": "execute_result"
    }
   ],
   "source": [
    "type(x)"
   ]
  },
  {
   "cell_type": "code",
   "execution_count": 7,
   "id": "4eb11924",
   "metadata": {
    "execution": {
     "iopub.execute_input": "2025-04-26T13:41:10.929368Z",
     "iopub.status.busy": "2025-04-26T13:41:10.929044Z",
     "iopub.status.idle": "2025-04-26T13:41:10.935989Z",
     "shell.execute_reply": "2025-04-26T13:41:10.934963Z"
    },
    "papermill": {
     "duration": 0.016983,
     "end_time": "2025-04-26T13:41:10.937636",
     "exception": false,
     "start_time": "2025-04-26T13:41:10.920653",
     "status": "completed"
    },
    "tags": []
   },
   "outputs": [
    {
     "data": {
      "text/plain": [
       "torch.Size([1, 28, 28])"
      ]
     },
     "execution_count": 7,
     "metadata": {},
     "output_type": "execute_result"
    }
   ],
   "source": [
    "x.size()"
   ]
  },
  {
   "cell_type": "code",
   "execution_count": 8,
   "id": "6f8c3f24",
   "metadata": {
    "execution": {
     "iopub.execute_input": "2025-04-26T13:41:10.948602Z",
     "iopub.status.busy": "2025-04-26T13:41:10.948261Z",
     "iopub.status.idle": "2025-04-26T13:41:11.003042Z",
     "shell.execute_reply": "2025-04-26T13:41:11.001285Z"
    },
    "papermill": {
     "duration": 0.062773,
     "end_time": "2025-04-26T13:41:11.005367",
     "exception": false,
     "start_time": "2025-04-26T13:41:10.942594",
     "status": "completed"
    },
    "tags": []
   },
   "outputs": [
    {
     "data": {
      "text/plain": [
       "tensor([[[0.0000, 0.0000, 0.0000, 0.0000, 0.0000, 0.0000, 0.0000, 0.0000,\n",
       "          0.0000, 0.0000, 0.0000, 0.0000, 0.0000, 0.0000, 0.0000, 0.0000,\n",
       "          0.0000, 0.0000, 0.0000, 0.0000, 0.0000, 0.0000, 0.0000, 0.0000,\n",
       "          0.0000, 0.0000, 0.0000, 0.0000],\n",
       "         [0.0000, 0.0000, 0.0000, 0.0000, 0.0000, 0.0000, 0.0000, 0.0000,\n",
       "          0.0000, 0.0000, 0.0000, 0.0000, 0.0000, 0.0000, 0.0000, 0.0000,\n",
       "          0.0000, 0.0000, 0.0000, 0.0000, 0.0000, 0.0000, 0.0000, 0.0000,\n",
       "          0.0000, 0.0000, 0.0000, 0.0000],\n",
       "         [0.0000, 0.0000, 0.0000, 0.0000, 0.0000, 0.0000, 0.0000, 0.0000,\n",
       "          0.0000, 0.0000, 0.0000, 0.0000, 0.0000, 0.0000, 0.0000, 0.0000,\n",
       "          0.0000, 0.0000, 0.0000, 0.0000, 0.0000, 0.0000, 0.0000, 0.0000,\n",
       "          0.0000, 0.0000, 0.0000, 0.0000],\n",
       "         [0.0000, 0.0000, 0.0000, 0.0000, 0.0000, 0.0000, 0.0000, 0.0000,\n",
       "          0.0000, 0.0000, 0.0000, 0.0000, 0.0000, 0.0000, 0.0000, 0.0000,\n",
       "          0.0000, 0.0000, 0.0000, 0.0000, 0.0000, 0.0000, 0.0000, 0.0000,\n",
       "          0.0000, 0.0000, 0.0000, 0.0000],\n",
       "         [0.0000, 0.0000, 0.0000, 0.0000, 0.0000, 0.0000, 0.0000, 0.0000,\n",
       "          0.0000, 0.0000, 0.0000, 0.0000, 0.0000, 0.6000, 1.0000, 0.6000,\n",
       "          0.4627, 0.4627, 0.2353, 0.0000, 0.0000, 0.0000, 0.0000, 0.0000,\n",
       "          0.0000, 0.0000, 0.0000, 0.0000],\n",
       "         [0.0000, 0.0000, 0.0000, 0.0000, 0.0000, 0.0000, 0.0000, 0.0000,\n",
       "          0.0000, 0.0000, 0.0235, 0.6549, 0.9176, 0.9843, 0.9922, 0.9922,\n",
       "          0.9922, 0.9922, 0.9569, 0.6980, 0.0510, 0.0000, 0.0000, 0.0000,\n",
       "          0.0000, 0.0000, 0.0000, 0.0000],\n",
       "         [0.0000, 0.0000, 0.0000, 0.0000, 0.0000, 0.0000, 0.0000, 0.0000,\n",
       "          0.0000, 0.0431, 0.6275, 0.9922, 0.9922, 0.9922, 0.9922, 0.9373,\n",
       "          0.6941, 0.8667, 0.9922, 0.9922, 0.6784, 0.0667, 0.0000, 0.0000,\n",
       "          0.0000, 0.0000, 0.0000, 0.0000],\n",
       "         [0.0000, 0.0000, 0.0000, 0.0000, 0.0000, 0.0000, 0.0000, 0.0000,\n",
       "          0.0471, 0.6157, 0.9922, 0.9922, 0.9922, 0.6078, 0.2392, 0.1961,\n",
       "          0.0000, 0.1373, 0.6078, 0.9922, 0.9922, 0.6196, 0.0000, 0.0000,\n",
       "          0.0000, 0.0000, 0.0000, 0.0000],\n",
       "         [0.0000, 0.0000, 0.0000, 0.0000, 0.0000, 0.0000, 0.0000, 0.0000,\n",
       "          0.5804, 0.9922, 0.9922, 0.9922, 0.9333, 0.0902, 0.0000, 0.0000,\n",
       "          0.0000, 0.0000, 0.1569, 0.8863, 0.9922, 0.9137, 0.2000, 0.0000,\n",
       "          0.0000, 0.0000, 0.0000, 0.0000],\n",
       "         [0.0000, 0.0000, 0.0000, 0.0000, 0.0000, 0.0000, 0.0000, 0.2078,\n",
       "          0.8980, 0.9922, 0.9922, 0.9647, 0.2392, 0.0000, 0.0000, 0.0000,\n",
       "          0.0000, 0.0000, 0.0000, 0.1647, 0.9137, 0.9922, 0.6235, 0.0235,\n",
       "          0.0000, 0.0000, 0.0000, 0.0000],\n",
       "         [0.0000, 0.0000, 0.0000, 0.0000, 0.0000, 0.0000, 0.0000, 0.8353,\n",
       "          0.9922, 0.9922, 0.9647, 0.2353, 0.0000, 0.0000, 0.0000, 0.0000,\n",
       "          0.0000, 0.0000, 0.0000, 0.0000, 0.5843, 0.9922, 0.9922, 0.3765,\n",
       "          0.0000, 0.0000, 0.0000, 0.0000],\n",
       "         [0.0000, 0.0000, 0.0000, 0.0000, 0.0000, 0.0000, 0.1647, 0.9059,\n",
       "          0.9922, 0.9922, 0.4118, 0.0000, 0.0000, 0.0000, 0.0000, 0.0000,\n",
       "          0.0000, 0.0000, 0.0000, 0.0000, 0.1843, 0.9020, 0.9922, 0.3765,\n",
       "          0.0000, 0.0000, 0.0000, 0.0000],\n",
       "         [0.0000, 0.0000, 0.0000, 0.0000, 0.0000, 0.0000, 0.5686, 0.9922,\n",
       "          0.9922, 0.9451, 0.2588, 0.0000, 0.0000, 0.0000, 0.0000, 0.0000,\n",
       "          0.0000, 0.0000, 0.0000, 0.0000, 0.0000, 0.7804, 0.9922, 0.3765,\n",
       "          0.0000, 0.0000, 0.0000, 0.0000],\n",
       "         [0.0000, 0.0000, 0.0000, 0.0000, 0.0000, 0.3765, 0.9804, 0.9922,\n",
       "          0.9922, 0.8588, 0.0000, 0.0000, 0.0000, 0.0000, 0.0000, 0.0000,\n",
       "          0.0000, 0.0000, 0.0000, 0.0000, 0.0000, 0.3451, 0.9922, 0.5176,\n",
       "          0.0000, 0.0000, 0.0000, 0.0000],\n",
       "         [0.0000, 0.0000, 0.0000, 0.0000, 0.0000, 0.4627, 0.9922, 0.9922,\n",
       "          0.9922, 0.4667, 0.0000, 0.0000, 0.0000, 0.0000, 0.0000, 0.0000,\n",
       "          0.0000, 0.0000, 0.0000, 0.0000, 0.0000, 0.2471, 0.9922, 0.9098,\n",
       "          0.0000, 0.0000, 0.0000, 0.0000],\n",
       "         [0.0000, 0.0000, 0.0000, 0.0000, 0.0000, 0.4627, 0.9922, 0.9922,\n",
       "          0.9922, 0.3216, 0.0000, 0.0000, 0.0000, 0.0000, 0.0000, 0.0000,\n",
       "          0.0000, 0.0000, 0.0000, 0.0000, 0.0000, 0.2471, 0.9922, 0.9098,\n",
       "          0.0000, 0.0000, 0.0000, 0.0000],\n",
       "         [0.0000, 0.0000, 0.0000, 0.0000, 0.0000, 0.4627, 0.9922, 0.9922,\n",
       "          0.9922, 0.3216, 0.0000, 0.0000, 0.0000, 0.0000, 0.0000, 0.0000,\n",
       "          0.0000, 0.0000, 0.0000, 0.0000, 0.0118, 0.5569, 0.9922, 0.9098,\n",
       "          0.0000, 0.0000, 0.0000, 0.0000],\n",
       "         [0.0000, 0.0000, 0.0000, 0.0000, 0.0000, 0.4627, 0.9922, 0.9922,\n",
       "          0.9922, 0.3216, 0.0000, 0.0000, 0.0000, 0.0000, 0.0000, 0.0000,\n",
       "          0.0000, 0.0000, 0.0000, 0.0000, 0.5882, 0.9922, 0.9922, 0.6471,\n",
       "          0.0000, 0.0000, 0.0000, 0.0000],\n",
       "         [0.0000, 0.0000, 0.0000, 0.0000, 0.0000, 0.2745, 0.9608, 0.9922,\n",
       "          0.9922, 0.3216, 0.0000, 0.0000, 0.0000, 0.0000, 0.0000, 0.0000,\n",
       "          0.0000, 0.0000, 0.0000, 0.3882, 0.9176, 0.9922, 0.9255, 0.2235,\n",
       "          0.0000, 0.0000, 0.0000, 0.0000],\n",
       "         [0.0000, 0.0000, 0.0000, 0.0000, 0.0000, 0.0000, 0.7412, 0.9922,\n",
       "          0.9922, 0.8314, 0.1333, 0.0000, 0.0000, 0.0000, 0.0000, 0.0000,\n",
       "          0.0353, 0.3412, 0.8627, 0.9882, 0.9922, 0.9137, 0.2706, 0.0000,\n",
       "          0.0000, 0.0000, 0.0000, 0.0000],\n",
       "         [0.0000, 0.0000, 0.0000, 0.0000, 0.0000, 0.0000, 0.2863, 0.9529,\n",
       "          0.9922, 0.9922, 0.8667, 0.7804, 0.2588, 0.2471, 0.2471, 0.6392,\n",
       "          0.8039, 0.9922, 0.9922, 0.9922, 0.7804, 0.2745, 0.0000, 0.0000,\n",
       "          0.0000, 0.0000, 0.0000, 0.0000],\n",
       "         [0.0000, 0.0000, 0.0000, 0.0000, 0.0000, 0.0000, 0.0000, 0.7490,\n",
       "          0.9922, 0.9922, 0.9922, 0.9922, 0.9922, 0.9922, 0.9922, 0.9922,\n",
       "          0.9922, 0.9922, 0.9922, 0.8392, 0.1098, 0.0000, 0.0000, 0.0000,\n",
       "          0.0000, 0.0000, 0.0000, 0.0000],\n",
       "         [0.0000, 0.0000, 0.0000, 0.0000, 0.0000, 0.0000, 0.0000, 0.1137,\n",
       "          0.7804, 0.9098, 0.9608, 0.9922, 0.9922, 0.9922, 0.9922, 0.9765,\n",
       "          0.9098, 0.6039, 0.3765, 0.0196, 0.0000, 0.0000, 0.0000, 0.0000,\n",
       "          0.0000, 0.0000, 0.0000, 0.0000],\n",
       "         [0.0000, 0.0000, 0.0000, 0.0000, 0.0000, 0.0000, 0.0000, 0.0000,\n",
       "          0.0000, 0.0000, 0.2745, 0.4549, 0.4549, 0.7451, 0.4549, 0.3686,\n",
       "          0.0000, 0.0000, 0.0000, 0.0000, 0.0000, 0.0000, 0.0000, 0.0000,\n",
       "          0.0000, 0.0000, 0.0000, 0.0000],\n",
       "         [0.0000, 0.0000, 0.0000, 0.0000, 0.0000, 0.0000, 0.0000, 0.0000,\n",
       "          0.0000, 0.0000, 0.0000, 0.0000, 0.0000, 0.0000, 0.0000, 0.0000,\n",
       "          0.0000, 0.0000, 0.0000, 0.0000, 0.0000, 0.0000, 0.0000, 0.0000,\n",
       "          0.0000, 0.0000, 0.0000, 0.0000],\n",
       "         [0.0000, 0.0000, 0.0000, 0.0000, 0.0000, 0.0000, 0.0000, 0.0000,\n",
       "          0.0000, 0.0000, 0.0000, 0.0000, 0.0000, 0.0000, 0.0000, 0.0000,\n",
       "          0.0000, 0.0000, 0.0000, 0.0000, 0.0000, 0.0000, 0.0000, 0.0000,\n",
       "          0.0000, 0.0000, 0.0000, 0.0000],\n",
       "         [0.0000, 0.0000, 0.0000, 0.0000, 0.0000, 0.0000, 0.0000, 0.0000,\n",
       "          0.0000, 0.0000, 0.0000, 0.0000, 0.0000, 0.0000, 0.0000, 0.0000,\n",
       "          0.0000, 0.0000, 0.0000, 0.0000, 0.0000, 0.0000, 0.0000, 0.0000,\n",
       "          0.0000, 0.0000, 0.0000, 0.0000],\n",
       "         [0.0000, 0.0000, 0.0000, 0.0000, 0.0000, 0.0000, 0.0000, 0.0000,\n",
       "          0.0000, 0.0000, 0.0000, 0.0000, 0.0000, 0.0000, 0.0000, 0.0000,\n",
       "          0.0000, 0.0000, 0.0000, 0.0000, 0.0000, 0.0000, 0.0000, 0.0000,\n",
       "          0.0000, 0.0000, 0.0000, 0.0000]]])"
      ]
     },
     "execution_count": 8,
     "metadata": {},
     "output_type": "execute_result"
    }
   ],
   "source": [
    "x"
   ]
  },
  {
   "cell_type": "code",
   "execution_count": 9,
   "id": "ab959550",
   "metadata": {
    "execution": {
     "iopub.execute_input": "2025-04-26T13:41:11.019685Z",
     "iopub.status.busy": "2025-04-26T13:41:11.019349Z",
     "iopub.status.idle": "2025-04-26T13:41:11.024816Z",
     "shell.execute_reply": "2025-04-26T13:41:11.023965Z"
    },
    "papermill": {
     "duration": 0.014266,
     "end_time": "2025-04-26T13:41:11.026301",
     "exception": false,
     "start_time": "2025-04-26T13:41:11.012035",
     "status": "completed"
    },
    "tags": []
   },
   "outputs": [
    {
     "data": {
      "text/plain": [
       "0"
      ]
     },
     "execution_count": 9,
     "metadata": {},
     "output_type": "execute_result"
    }
   ],
   "source": [
    "y"
   ]
  },
  {
   "cell_type": "code",
   "execution_count": 10,
   "id": "fb58ed8c",
   "metadata": {
    "execution": {
     "iopub.execute_input": "2025-04-26T13:41:11.038014Z",
     "iopub.status.busy": "2025-04-26T13:41:11.037356Z",
     "iopub.status.idle": "2025-04-26T13:41:11.044987Z",
     "shell.execute_reply": "2025-04-26T13:41:11.043995Z"
    },
    "papermill": {
     "duration": 0.015177,
     "end_time": "2025-04-26T13:41:11.046675",
     "exception": false,
     "start_time": "2025-04-26T13:41:11.031498",
     "status": "completed"
    },
    "tags": []
   },
   "outputs": [],
   "source": [
    "class DigitCNN(nn.Module):\n",
    "    def __init__(self):\n",
    "        super().__init__()\n",
    "        self.conv1 = nn.Conv2d(in_channels=1, out_channels=6, kernel_size=3, padding=1)\n",
    "        self.conv2 = nn.Conv2d(in_channels=6, out_channels=16, kernel_size=3, padding=1)\n",
    "        \n",
    "        self.fc1 = nn.Linear(16*7*7, 128)\n",
    "        self.fc2 = nn.Linear(128, 64)\n",
    "        self.fc3 = nn.Linear(64, 10)\n",
    "    def forward(self, x):\n",
    "        x = F.relu(self.conv1(x))\n",
    "        x = F.max_pool2d(x,2)\n",
    "        x = F.relu(self.conv2(x))\n",
    "        x = F.max_pool2d(x,2)\n",
    "        x = x.view(-1, 16*7*7)\n",
    "        x = F.relu(self.fc1(x))\n",
    "        x = F.relu(self.fc2(x))\n",
    "        x = self.fc3(x)\n",
    "        return x\n",
    "        "
   ]
  },
  {
   "cell_type": "code",
   "execution_count": 11,
   "id": "efa6bf7e",
   "metadata": {
    "execution": {
     "iopub.execute_input": "2025-04-26T13:41:11.058547Z",
     "iopub.status.busy": "2025-04-26T13:41:11.057971Z",
     "iopub.status.idle": "2025-04-26T13:41:11.062280Z",
     "shell.execute_reply": "2025-04-26T13:41:11.061472Z"
    },
    "papermill": {
     "duration": 0.011852,
     "end_time": "2025-04-26T13:41:11.063763",
     "exception": false,
     "start_time": "2025-04-26T13:41:11.051911",
     "status": "completed"
    },
    "tags": []
   },
   "outputs": [],
   "source": [
    "# model = nn.Sequential(\n",
    "#         nn.Conv2d(in_channels=1, out_channels=6, kernel_size=3, padding=1),\n",
    "#         nn.ReLU(),\n",
    "#         nn.MaxPool2d(kernel_size=2),\n",
    "#         nn.Conv2d(in_channels=6, out_channels=16, kernel_size=3, padding=1),\n",
    "#         nn.ReLU(),\n",
    "#         nn.MaxPool2d(kernel_size=2),\n",
    "#         nn.Flatten(),\n",
    "#         nn.Linear(16*7*7, 128),\n",
    "#         nn.Linear(128, 64),\n",
    "#         nn.Linear(64, 10)\n",
    "# )"
   ]
  },
  {
   "cell_type": "code",
   "execution_count": 12,
   "id": "2a75abbd",
   "metadata": {
    "execution": {
     "iopub.execute_input": "2025-04-26T13:41:11.075898Z",
     "iopub.status.busy": "2025-04-26T13:41:11.075282Z",
     "iopub.status.idle": "2025-04-26T13:41:11.185610Z",
     "shell.execute_reply": "2025-04-26T13:41:11.184766Z"
    },
    "papermill": {
     "duration": 0.118507,
     "end_time": "2025-04-26T13:41:11.187418",
     "exception": false,
     "start_time": "2025-04-26T13:41:11.068911",
     "status": "completed"
    },
    "tags": []
   },
   "outputs": [],
   "source": [
    "transforms = tfs.Compose([tfs.ToTensor(), tfs.ToDtype(torch.float32, scale=True)])\n",
    "d_set = DigitDataset('/kaggle/input/mnist-dataset/dataset', train=True, transforms=transforms)\n",
    "d_train, d_val = data.random_split(d_set, [0.7, 0.3])\n",
    "train_data = data.DataLoader(d_train, batch_size=32, shuffle=True)\n",
    "val_data = data.DataLoader(d_val, batch_size=32, shuffle=False)\n",
    "\n",
    "model = DigitCNN()\n",
    "\n",
    "optimizer = optim.Adam(params = model.parameters(), lr=0.01, weight_decay=0.001)\n",
    "loss_func = nn.CrossEntropyLoss()\n",
    "\n"
   ]
  },
  {
   "cell_type": "code",
   "execution_count": 13,
   "id": "bb7a3061",
   "metadata": {
    "execution": {
     "iopub.execute_input": "2025-04-26T13:41:11.199225Z",
     "iopub.status.busy": "2025-04-26T13:41:11.198457Z",
     "iopub.status.idle": "2025-04-26T13:41:11.452376Z",
     "shell.execute_reply": "2025-04-26T13:41:11.451638Z"
    },
    "papermill": {
     "duration": 0.261418,
     "end_time": "2025-04-26T13:41:11.454001",
     "exception": false,
     "start_time": "2025-04-26T13:41:11.192583",
     "status": "completed"
    },
    "tags": []
   },
   "outputs": [],
   "source": [
    "d = next(iter(train_data))"
   ]
  },
  {
   "cell_type": "code",
   "execution_count": 14,
   "id": "135cc0b1",
   "metadata": {
    "execution": {
     "iopub.execute_input": "2025-04-26T13:41:11.466318Z",
     "iopub.status.busy": "2025-04-26T13:41:11.465475Z",
     "iopub.status.idle": "2025-04-26T13:41:11.471388Z",
     "shell.execute_reply": "2025-04-26T13:41:11.470577Z"
    },
    "papermill": {
     "duration": 0.013704,
     "end_time": "2025-04-26T13:41:11.472803",
     "exception": false,
     "start_time": "2025-04-26T13:41:11.459099",
     "status": "completed"
    },
    "tags": []
   },
   "outputs": [
    {
     "data": {
      "text/plain": [
       "torch.Size([32, 1, 28, 28])"
      ]
     },
     "execution_count": 14,
     "metadata": {},
     "output_type": "execute_result"
    }
   ],
   "source": [
    "d[0].size()"
   ]
  },
  {
   "cell_type": "code",
   "execution_count": 15,
   "id": "b60932f4",
   "metadata": {
    "execution": {
     "iopub.execute_input": "2025-04-26T13:41:11.483956Z",
     "iopub.status.busy": "2025-04-26T13:41:11.483628Z",
     "iopub.status.idle": "2025-04-26T13:41:11.490843Z",
     "shell.execute_reply": "2025-04-26T13:41:11.489793Z"
    },
    "papermill": {
     "duration": 0.01463,
     "end_time": "2025-04-26T13:41:11.492461",
     "exception": false,
     "start_time": "2025-04-26T13:41:11.477831",
     "status": "completed"
    },
    "tags": []
   },
   "outputs": [
    {
     "data": {
      "text/plain": [
       "tensor([0, 3, 0, 9, 8, 1, 8, 6, 1, 9, 8, 4, 9, 8, 2, 4, 9, 9, 5, 9, 8, 3, 9, 8,\n",
       "        9, 2, 0, 3, 3, 2, 7, 2])"
      ]
     },
     "execution_count": 15,
     "metadata": {},
     "output_type": "execute_result"
    }
   ],
   "source": [
    "d[1]"
   ]
  },
  {
   "cell_type": "code",
   "execution_count": null,
   "id": "3a4796a6",
   "metadata": {
    "execution": {
     "execution_failed": "2025-04-26T13:06:18.965Z"
    },
    "papermill": {
     "duration": 0.004904,
     "end_time": "2025-04-26T13:41:11.502730",
     "exception": false,
     "start_time": "2025-04-26T13:41:11.497826",
     "status": "completed"
    },
    "tags": []
   },
   "outputs": [],
   "source": []
  },
  {
   "cell_type": "code",
   "execution_count": 16,
   "id": "c8485ec5",
   "metadata": {
    "execution": {
     "iopub.execute_input": "2025-04-26T13:41:11.514476Z",
     "iopub.status.busy": "2025-04-26T13:41:11.514183Z",
     "iopub.status.idle": "2025-04-26T13:41:11.630760Z",
     "shell.execute_reply": "2025-04-26T13:41:11.629708Z"
    },
    "papermill": {
     "duration": 0.124261,
     "end_time": "2025-04-26T13:41:11.632473",
     "exception": false,
     "start_time": "2025-04-26T13:41:11.508212",
     "status": "completed"
    },
    "tags": []
   },
   "outputs": [
    {
     "data": {
      "text/plain": [
       "tensor([[-0.0525, -0.1002, -0.1010, -0.1146, -0.0319, -0.1274,  0.0408,  0.0145,\n",
       "          0.1194, -0.0482],\n",
       "        [-0.0531, -0.0949, -0.1058, -0.1043, -0.0311, -0.1247,  0.0485,  0.0176,\n",
       "          0.1149, -0.0465],\n",
       "        [-0.0461, -0.1029, -0.1068, -0.1158, -0.0159, -0.1344,  0.0393,  0.0095,\n",
       "          0.1173, -0.0430],\n",
       "        [-0.0511, -0.0997, -0.0994, -0.1103, -0.0342, -0.1197,  0.0447,  0.0197,\n",
       "          0.1263, -0.0448],\n",
       "        [-0.0528, -0.0958, -0.1087, -0.1110, -0.0303, -0.1178,  0.0505,  0.0232,\n",
       "          0.1218, -0.0501],\n",
       "        [-0.0508, -0.1018, -0.1039, -0.1145, -0.0259, -0.1286,  0.0399,  0.0153,\n",
       "          0.1222, -0.0455],\n",
       "        [-0.0474, -0.0908, -0.1005, -0.1159, -0.0309, -0.1231,  0.0521,  0.0246,\n",
       "          0.1209, -0.0431],\n",
       "        [-0.0472, -0.1023, -0.1024, -0.1176, -0.0143, -0.1273,  0.0445,  0.0135,\n",
       "          0.1237, -0.0386],\n",
       "        [-0.0542, -0.0969, -0.1008, -0.1121, -0.0250, -0.1277,  0.0457,  0.0125,\n",
       "          0.1190, -0.0458],\n",
       "        [-0.0495, -0.1004, -0.1024, -0.1123, -0.0273, -0.1197,  0.0465,  0.0161,\n",
       "          0.1234, -0.0493],\n",
       "        [-0.0493, -0.0958, -0.1054, -0.1088, -0.0247, -0.1294,  0.0444,  0.0177,\n",
       "          0.1172, -0.0456],\n",
       "        [-0.0512, -0.1021, -0.1060, -0.1110, -0.0248, -0.1217,  0.0487,  0.0147,\n",
       "          0.1234, -0.0493],\n",
       "        [-0.0509, -0.0968, -0.1010, -0.1110, -0.0236, -0.1203,  0.0459,  0.0131,\n",
       "          0.1222, -0.0479],\n",
       "        [-0.0528, -0.1012, -0.1060, -0.1151, -0.0273, -0.1202,  0.0429,  0.0166,\n",
       "          0.1200, -0.0451],\n",
       "        [-0.0453, -0.0968, -0.1007, -0.1087, -0.0256, -0.1228,  0.0478,  0.0145,\n",
       "          0.1199, -0.0452],\n",
       "        [-0.0507, -0.1029, -0.1032, -0.1120, -0.0203, -0.1306,  0.0428,  0.0101,\n",
       "          0.1184, -0.0463],\n",
       "        [-0.0518, -0.1032, -0.1003, -0.1148, -0.0247, -0.1251,  0.0446,  0.0130,\n",
       "          0.1255, -0.0472],\n",
       "        [-0.0511, -0.1033, -0.1038, -0.1136, -0.0267, -0.1196,  0.0433,  0.0136,\n",
       "          0.1260, -0.0478],\n",
       "        [-0.0561, -0.0953, -0.1066, -0.1158, -0.0364, -0.1092,  0.0505,  0.0187,\n",
       "          0.1219, -0.0508],\n",
       "        [-0.0554, -0.1036, -0.1057, -0.1190, -0.0359, -0.1169,  0.0507,  0.0163,\n",
       "          0.1273, -0.0463],\n",
       "        [-0.0495, -0.0997, -0.1028, -0.1181, -0.0233, -0.1237,  0.0428,  0.0148,\n",
       "          0.1189, -0.0450],\n",
       "        [-0.0522, -0.1001, -0.1044, -0.1211, -0.0180, -0.1262,  0.0366,  0.0097,\n",
       "          0.1165, -0.0361],\n",
       "        [-0.0506, -0.1001, -0.1057, -0.1095, -0.0305, -0.1184,  0.0491,  0.0179,\n",
       "          0.1247, -0.0511],\n",
       "        [-0.0542, -0.0988, -0.1039, -0.1144, -0.0291, -0.1205,  0.0454,  0.0182,\n",
       "          0.1253, -0.0470],\n",
       "        [-0.0517, -0.1037, -0.1079, -0.1175, -0.0260, -0.1241,  0.0401,  0.0138,\n",
       "          0.1219, -0.0456],\n",
       "        [-0.0532, -0.0916, -0.1036, -0.1135, -0.0330, -0.1198,  0.0447,  0.0199,\n",
       "          0.1166, -0.0455],\n",
       "        [-0.0534, -0.0982, -0.1015, -0.1188, -0.0274, -0.1263,  0.0481,  0.0188,\n",
       "          0.1178, -0.0450],\n",
       "        [-0.0525, -0.0963, -0.1057, -0.1107, -0.0324, -0.1236,  0.0448,  0.0213,\n",
       "          0.1171, -0.0444],\n",
       "        [-0.0508, -0.1006, -0.1064, -0.1147, -0.0296, -0.1213,  0.0460,  0.0217,\n",
       "          0.1193, -0.0462],\n",
       "        [-0.0500, -0.0947, -0.1015, -0.1156, -0.0262, -0.1179,  0.0525,  0.0210,\n",
       "          0.1214, -0.0399],\n",
       "        [-0.0558, -0.1006, -0.1008, -0.1135, -0.0304, -0.1175,  0.0539,  0.0159,\n",
       "          0.1209, -0.0440],\n",
       "        [-0.0543, -0.0973, -0.1013, -0.1119, -0.0352, -0.1239,  0.0544,  0.0210,\n",
       "          0.1213, -0.0492]], grad_fn=<AddmmBackward0>)"
      ]
     },
     "execution_count": 16,
     "metadata": {},
     "output_type": "execute_result"
    }
   ],
   "source": [
    "\n",
    "model(d[0])"
   ]
  },
  {
   "cell_type": "code",
   "execution_count": 17,
   "id": "f36748b1",
   "metadata": {
    "execution": {
     "iopub.execute_input": "2025-04-26T13:41:11.644648Z",
     "iopub.status.busy": "2025-04-26T13:41:11.643983Z",
     "iopub.status.idle": "2025-04-26T13:41:11.656569Z",
     "shell.execute_reply": "2025-04-26T13:41:11.655566Z"
    },
    "papermill": {
     "duration": 0.020236,
     "end_time": "2025-04-26T13:41:11.658079",
     "exception": false,
     "start_time": "2025-04-26T13:41:11.637843",
     "status": "completed"
    },
    "tags": []
   },
   "outputs": [
    {
     "data": {
      "text/plain": [
       "torch.Size([32, 10])"
      ]
     },
     "execution_count": 17,
     "metadata": {},
     "output_type": "execute_result"
    }
   ],
   "source": [
    "\n",
    "model(d[0]).size()"
   ]
  },
  {
   "cell_type": "code",
   "execution_count": 18,
   "id": "f73e6e07",
   "metadata": {
    "execution": {
     "iopub.execute_input": "2025-04-26T13:41:11.670274Z",
     "iopub.status.busy": "2025-04-26T13:41:11.669936Z",
     "iopub.status.idle": "2025-04-26T13:41:11.676844Z",
     "shell.execute_reply": "2025-04-26T13:41:11.675890Z"
    },
    "papermill": {
     "duration": 0.014727,
     "end_time": "2025-04-26T13:41:11.678387",
     "exception": false,
     "start_time": "2025-04-26T13:41:11.663660",
     "status": "completed"
    },
    "tags": []
   },
   "outputs": [
    {
     "data": {
      "text/plain": [
       "tensor([0, 3, 0, 9, 8, 1, 8, 6, 1, 9, 8, 4, 9, 8, 2, 4, 9, 9, 5, 9, 8, 3, 9, 8,\n",
       "        9, 2, 0, 3, 3, 2, 7, 2])"
      ]
     },
     "execution_count": 18,
     "metadata": {},
     "output_type": "execute_result"
    }
   ],
   "source": [
    "d[1]"
   ]
  },
  {
   "cell_type": "code",
   "execution_count": 19,
   "id": "d55149f9",
   "metadata": {
    "execution": {
     "iopub.execute_input": "2025-04-26T13:41:11.690941Z",
     "iopub.status.busy": "2025-04-26T13:41:11.690489Z",
     "iopub.status.idle": "2025-04-26T13:55:18.650820Z",
     "shell.execute_reply": "2025-04-26T13:55:18.649842Z"
    },
    "papermill": {
     "duration": 846.968204,
     "end_time": "2025-04-26T13:55:18.652336",
     "exception": false,
     "start_time": "2025-04-26T13:41:11.684132",
     "status": "completed"
    },
    "tags": []
   },
   "outputs": [
    {
     "name": "stderr",
     "output_type": "stream",
     "text": [
      "1/5 loss_mean = 0.2067751530983456: 100%|██████████| 1313/1313 [05:49<00:00,  3.76it/s]\n",
      "100%|██████████| 563/563 [02:20<00:00,  4.01it/s]\n"
     ]
    },
    {
     "name": "stdout",
     "output_type": "stream",
     "text": [
      "Q = 3.6252122493606294\n"
     ]
    },
    {
     "name": "stderr",
     "output_type": "stream",
     "text": [
      "2/5 loss_mean = 0.12509214442757238: 100%|██████████| 1313/1313 [01:02<00:00, 20.84it/s]\n",
      "100%|██████████| 563/563 [00:23<00:00, 24.34it/s]\n"
     ]
    },
    {
     "name": "stdout",
     "output_type": "stream",
     "text": [
      "Q = 4.423255359710311\n"
     ]
    },
    {
     "name": "stderr",
     "output_type": "stream",
     "text": [
      "3/5 loss_mean = 0.11678675106474445: 100%|██████████| 1313/1313 [01:06<00:00, 19.89it/s]\n",
      "100%|██████████| 563/563 [00:22<00:00, 25.04it/s]\n"
     ]
    },
    {
     "name": "stdout",
     "output_type": "stream",
     "text": [
      "Q = 4.099166180749307\n"
     ]
    },
    {
     "name": "stderr",
     "output_type": "stream",
     "text": [
      "4/5 loss_mean = 0.11162245396903456: 100%|██████████| 1313/1313 [01:07<00:00, 19.44it/s]\n",
      "100%|██████████| 563/563 [00:23<00:00, 23.61it/s]\n"
     ]
    },
    {
     "name": "stdout",
     "output_type": "stream",
     "text": [
      "Q = 3.9204967883997597\n"
     ]
    },
    {
     "name": "stderr",
     "output_type": "stream",
     "text": [
      "5/5 loss_mean = 0.10285031894441432: 100%|██████████| 1313/1313 [01:07<00:00, 19.55it/s]\n",
      "100%|██████████| 563/563 [00:23<00:00, 23.47it/s]"
     ]
    },
    {
     "name": "stdout",
     "output_type": "stream",
     "text": [
      "Q = 3.2917933080752846\n"
     ]
    },
    {
     "name": "stderr",
     "output_type": "stream",
     "text": [
      "\n"
     ]
    }
   ],
   "source": [
    "epochs = 5\n",
    "for e in range(epochs):\n",
    "    lm_count = 0\n",
    "    loss_mean = 0\n",
    "    train_tqdm = tqdm(train_data)\n",
    "    for x_train, y_train in train_tqdm:\n",
    "        model.train()\n",
    "        train_pred = model(x_train)\n",
    "        loss = loss_func(train_pred, y_train)\n",
    "        \n",
    "        optimizer.zero_grad()\n",
    "        loss.backward()\n",
    "        optimizer.step()\n",
    "\n",
    "        lm_count += 1\n",
    "        loss_mean = 1/lm_count * loss.item() + (1-1/lm_count)*loss_mean\n",
    "        train_tqdm.set_description(f\"{e+1}/{epochs} loss_mean = {loss_mean}\")\n",
    "        \n",
    "    val_tqdm = tqdm(val_data) \n",
    "    Q = 0\n",
    "    for x_val, y_val in val_tqdm:\n",
    "        model.eval()\n",
    "        val_pred = model(x_val)\n",
    "        val_loss = loss_func(val_pred, y_val)\n",
    "\n",
    "        Q += val_loss.item()\n",
    "    Q = Q  / len(x_val)\n",
    "    print(f\"Q = {Q}\")\n",
    "\n",
    "st = model.state_dict()\n",
    "torch.save(st, 'digit_cnn.pth')\n",
    "        \n",
    "        "
   ]
  },
  {
   "cell_type": "code",
   "execution_count": 20,
   "id": "0250b315",
   "metadata": {
    "execution": {
     "iopub.execute_input": "2025-04-26T13:55:19.931951Z",
     "iopub.status.busy": "2025-04-26T13:55:19.931649Z",
     "iopub.status.idle": "2025-04-26T13:56:40.811836Z",
     "shell.execute_reply": "2025-04-26T13:56:40.810778Z"
    },
    "papermill": {
     "duration": 81.553376,
     "end_time": "2025-04-26T13:56:40.813475",
     "exception": false,
     "start_time": "2025-04-26T13:55:19.260099",
     "status": "completed"
    },
    "tags": []
   },
   "outputs": [
    {
     "name": "stdout",
     "output_type": "stream",
     "text": [
      "Accuracy = 0.9860000014305115\n",
      "Accuracy = 0.9919999837875366\n",
      "Accuracy = 0.9879999756813049\n",
      "Accuracy = 0.9959999918937683\n",
      "Accuracy = 0.9919999837875366\n",
      "Accuracy = 0.9760000109672546\n",
      "Accuracy = 0.9900000095367432\n",
      "Accuracy = 0.9860000014305115\n",
      "Accuracy = 0.9559999704360962\n",
      "Accuracy = 0.9679999947547913\n",
      "Accuracy = 0.949999988079071\n",
      "Accuracy = 0.9520000219345093\n",
      "Accuracy = 0.9779999852180481\n",
      "Accuracy = 0.9800000190734863\n",
      "Accuracy = 0.9639999866485596\n",
      "Accuracy = 0.9580000042915344\n",
      "Accuracy = 0.9860000014305115\n",
      "Accuracy = 0.9819999933242798\n",
      "Accuracy = 0.9679999947547913\n",
      "Accuracy = 0.9620000123977661\n"
     ]
    }
   ],
   "source": [
    "import torch\n",
    "\n",
    "model = DigitCNN()\n",
    "\n",
    "transforms = tfs.Compose([tfs.ToTensor(), tfs.ToDtype(torch.float32, scale=True)])\n",
    "d_test = DigitDataset('/kaggle/input/mnist-dataset/dataset', train=False, transforms=transforms)\n",
    "data_test = data.DataLoader(d_test, batch_size=500, shuffle=False)\n",
    "\n",
    "\n",
    "st = torch.load('digit_cnn.pth', weights_only=True)\n",
    "model.load_state_dict(st)\n",
    "\n",
    "model.eval()\n",
    "for x_test, y_test in data_test:\n",
    "    with torch.no_grad():\n",
    "        pred_test = model(x_test)\n",
    "        p1 = torch.argmax(pred_test, dim=1)\n",
    "        acc = (p1 == y_test).float().mean().item()\n",
    "        print(f\"Accuracy = {acc}\")"
   ]
  },
  {
   "cell_type": "code",
   "execution_count": null,
   "id": "c67571a5",
   "metadata": {
    "papermill": {
     "duration": 0.604578,
     "end_time": "2025-04-26T13:56:42.108749",
     "exception": false,
     "start_time": "2025-04-26T13:56:41.504171",
     "status": "completed"
    },
    "tags": []
   },
   "outputs": [],
   "source": []
  }
 ],
 "metadata": {
  "kaggle": {
   "accelerator": "none",
   "dataSources": [
    {
     "datasetId": 7254745,
     "sourceId": 11571678,
     "sourceType": "datasetVersion"
    }
   ],
   "dockerImageVersionId": 31012,
   "isGpuEnabled": false,
   "isInternetEnabled": true,
   "language": "python",
   "sourceType": "notebook"
  },
  "kernelspec": {
   "display_name": "Python 3",
   "language": "python",
   "name": "python3"
  },
  "language_info": {
   "codemirror_mode": {
    "name": "ipython",
    "version": 3
   },
   "file_extension": ".py",
   "mimetype": "text/x-python",
   "name": "python",
   "nbconvert_exporter": "python",
   "pygments_lexer": "ipython3",
   "version": "3.11.11"
  },
  "papermill": {
   "default_parameters": {},
   "duration": 952.82949,
   "end_time": "2025-04-26T13:56:45.887104",
   "environment_variables": {},
   "exception": null,
   "input_path": "__notebook__.ipynb",
   "output_path": "__notebook__.ipynb",
   "parameters": {},
   "start_time": "2025-04-26T13:40:53.057614",
   "version": "2.6.0"
  }
 },
 "nbformat": 4,
 "nbformat_minor": 5
}
